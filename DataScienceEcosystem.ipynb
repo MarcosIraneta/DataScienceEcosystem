{
 "cells": [
  {
   "cell_type": "markdown",
   "id": "e9c9b911-6b61-4d68-a255-4024e5b68aa3",
   "metadata": {},
   "source": [
    "<h1>Data Science Tools and Ecosystem<h1>"
   ]
  },
  {
   "cell_type": "markdown",
   "id": "7b41de16-f49c-4cf4-91a1-a80c7353ce6b",
   "metadata": {},
   "source": [
    "In this notebook, Data Science Tools and Ecosystem are summarized."
   ]
  },
  {
   "cell_type": "markdown",
   "id": "76f8e7e9-6610-441d-ae96-f0a024d23661",
   "metadata": {},
   "source": [
    "Some of the popular languages that Data Scientists use are:\n",
    "1. SQL\n",
    "2. Python\n",
    "3. R"
   ]
  },
  {
   "cell_type": "markdown",
   "id": "33936cc5-f96e-4995-b5ef-6eeeef34d609",
   "metadata": {},
   "source": [
    "Some of the commonly used libraries used by Data Scientists include:\n",
    "1. NumPy\n",
    "2. Pandas\n",
    "3. Scikit-Learn"
   ]
  },
  {
   "cell_type": "markdown",
   "id": "aec5d061-30c4-454e-865b-cde47274e738",
   "metadata": {},
   "source": [
    "|Data Science Tools|\n",
    "|------------------|\n",
    "|MySQL             |\n",
    "|Apache CouchDB    |\n",
    "|Hadoop File System|"
   ]
  },
  {
   "cell_type": "markdown",
   "id": "f4b91aba-64e6-456f-a388-22a5a51002ea",
   "metadata": {},
   "source": [
    "<h3>Below are a few examples of evaluating arithmetic expressions in Python<h3>"
   ]
  },
  {
   "cell_type": "code",
   "execution_count": 2,
   "id": "114123ef-fa58-4e8a-b497-d5644e87ec1c",
   "metadata": {
    "tags": []
   },
   "outputs": [
    {
     "data": {
      "text/plain": [
       "17"
      ]
     },
     "execution_count": 2,
     "metadata": {},
     "output_type": "execute_result"
    }
   ],
   "source": [
    "(3*4)+5\n",
    "### This a simple arithmetic expression to mutiply then add integers"
   ]
  },
  {
   "cell_type": "code",
   "execution_count": 3,
   "id": "5860a61c-4b69-407c-bac5-8e584885576e",
   "metadata": {
    "tags": []
   },
   "outputs": [
    {
     "data": {
      "text/plain": [
       "3.3333333333333335"
      ]
     },
     "execution_count": 3,
     "metadata": {},
     "output_type": "execute_result"
    }
   ],
   "source": [
    "200/60\n",
    "###  This will convert 200 minutes to hours by diving by 60"
   ]
  },
  {
   "cell_type": "markdown",
   "id": "4e0c6282-35df-4339-9fd8-d7608ed67401",
   "metadata": {},
   "source": [
    "<h4>List popular languages for Data Science<h4>\n",
    "    \n",
    "**Objectives:**\n",
    "    \n",
    "- Julia\n",
    "- R\n",
    "- SQL"
   ]
  },
  {
   "cell_type": "markdown",
   "id": "287f5c79-b091-44cb-9bff-2e81ead4b6d9",
   "metadata": {},
   "source": [
    "<h2>Author<h2>\n",
    "    \n",
    "Marcos Irañeta"
   ]
  },
  {
   "cell_type": "code",
   "execution_count": null,
   "id": "1d73669f-4a73-49a1-b43e-9ce0b47f3eca",
   "metadata": {},
   "outputs": [],
   "source": []
  }
 ],
 "metadata": {
  "kernelspec": {
   "display_name": "Python",
   "language": "python",
   "name": "conda-env-python-py"
  },
  "language_info": {
   "codemirror_mode": {
    "name": "ipython",
    "version": 3
   },
   "file_extension": ".py",
   "mimetype": "text/x-python",
   "name": "python",
   "nbconvert_exporter": "python",
   "pygments_lexer": "ipython3",
   "version": "3.7.12"
  }
 },
 "nbformat": 4,
 "nbformat_minor": 5
}
